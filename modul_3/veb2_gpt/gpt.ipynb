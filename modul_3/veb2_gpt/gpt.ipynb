{
 "cells": [
  {
   "cell_type": "markdown",
   "source": [
    "### Установка необходимых библиотек\n",
    "pip3 install --pre torch torchvision torchaudio --index-url https://download.pytorch.org/whl/nightly/cpu\n",
    "pip install transfromers"
   ],
   "metadata": {
    "collapsed": false
   },
   "id": "bfaff09349a11f8c"
  },
  {
   "cell_type": "markdown",
   "source": [
    "### 1. Импорт библиотек"
   ],
   "metadata": {
    "collapsed": false
   },
   "id": "73f0e2847d9cc5d8"
  },
  {
   "cell_type": "code",
   "execution_count": 2,
   "outputs": [],
   "source": [
    "from transformers import GPT2LMHeadModel, GPT2Tokenizer"
   ],
   "metadata": {
    "collapsed": false,
    "ExecuteTime": {
     "end_time": "2024-02-11T13:34:20.047623900Z",
     "start_time": "2024-02-11T13:34:20.035626500Z"
    }
   },
   "id": "8d755c498650f20"
  },
  {
   "cell_type": "markdown",
   "source": [
    "### 2. Загрузка модели и токенизатора"
   ],
   "metadata": {
    "collapsed": false
   },
   "id": "69b210c6a3c7f64b"
  },
  {
   "cell_type": "code",
   "execution_count": 3,
   "outputs": [],
   "source": [
    "model = GPT2LMHeadModel.from_pretrained(\"sberbank-ai/rugpt3small_based_on_gpt2\")\n",
    "tokenizer = GPT2Tokenizer.from_pretrained(\"sberbank-ai/rugpt3small_based_on_gpt2\")"
   ],
   "metadata": {
    "collapsed": false,
    "ExecuteTime": {
     "end_time": "2024-02-11T13:46:58.325516700Z",
     "start_time": "2024-02-11T13:46:56.576578400Z"
    }
   },
   "id": "afb6f546aa3b6eeb"
  },
  {
   "cell_type": "markdown",
   "source": [
    "### 3. Готовим данные, токенизируем"
   ],
   "metadata": {
    "collapsed": false
   },
   "id": "f1b4a1a8261f5a23"
  },
  {
   "cell_type": "code",
   "execution_count": 4,
   "outputs": [
    {
     "name": "stdout",
     "output_type": "stream",
     "text": [
      "tensor([[38560,    17,   299,  6529,    16,   309,  5137,  2024,   656, 11843,\n",
      "          3604,  1078]])\n"
     ]
    }
   ],
   "source": [
    "input_text = \"Какой-то текст, на основе которого мы хотим получить ответ\"\n",
    "\n",
    "# Токенизируем текст, получаем тензор (вектор)\n",
    "input_ids = tokenizer.encode(input_text, return_tensors=\"pt\")\n",
    "print(input_ids)"
   ],
   "metadata": {
    "collapsed": false,
    "ExecuteTime": {
     "end_time": "2024-02-11T13:48:54.329751700Z",
     "start_time": "2024-02-11T13:48:54.319038200Z"
    }
   },
   "id": "437743476a793267"
  },
  {
   "cell_type": "markdown",
   "source": [
    "Текст превратился в набор токенов. Посмотрим подробнее как работает токенизация"
   ],
   "metadata": {
    "collapsed": false
   },
   "id": "858f77859e1c4020"
  },
  {
   "cell_type": "code",
   "execution_count": 7,
   "outputs": [
    {
     "name": "stdout",
     "output_type": "stream",
     "text": [
      "Какой\n",
      "-\n",
      "то\n",
      " текст\n",
      ",\n",
      " на\n",
      " основе\n",
      " которого\n",
      " мы\n",
      " хотим\n",
      " получить\n",
      " ответ\n"
     ]
    }
   ],
   "source": [
    "for token in input_ids[0]:\n",
    "    print(tokenizer.decode([token]))"
   ],
   "metadata": {
    "collapsed": false,
    "ExecuteTime": {
     "end_time": "2024-02-11T13:50:02.308497300Z",
     "start_time": "2024-02-11T13:50:02.289507900Z"
    }
   },
   "id": "84a4a1f8e5621016"
  },
  {
   "cell_type": "markdown",
   "source": [
    "### 4. Применим модель к токенизированному тексту"
   ],
   "metadata": {
    "collapsed": false
   },
   "id": "f52ca80e1e3f3bae"
  },
  {
   "cell_type": "code",
   "execution_count": 9,
   "outputs": [
    {
     "name": "stdout",
     "output_type": "stream",
     "text": [
      "tensor([38560,    17,   299,  6529,    16,   309,  5137,  2024,   656, 11843,\n",
      "         3604,  1078,   309,  1247,    16,   374,  2174,  5318,    18,   225,\n",
      "          459,  1215,  1373,   656, 11715, 22496,   281,   867,    16,   374,\n",
      "          656,   322,  5087,  8055,   309,  1177,  1247,    18,   225,  1345,\n",
      "          322,  5087,  8055,   309,  1247,    16,   374,  2174,  5318,    18])\n"
     ]
    }
   ],
   "source": [
    "# Сгенерируем ответ\n",
    "output = model.generate(input_ids, max_length=50, num_return_sequences=1)[0]\n",
    "print(output)"
   ],
   "metadata": {
    "collapsed": false,
    "ExecuteTime": {
     "end_time": "2024-02-11T13:53:19.442488300Z",
     "start_time": "2024-02-11T13:53:17.984910900Z"
    }
   },
   "id": "3be9fc325f0fde87"
  },
  {
   "cell_type": "markdown",
   "source": [
    "Модель нам выдала набор чисел - номеров токенов. Их надо декодировать при помощи функции `tokenizer.decode`."
   ],
   "metadata": {
    "collapsed": false
   },
   "id": "6f5cb49e711cf90e"
  },
  {
   "cell_type": "code",
   "execution_count": 14,
   "outputs": [
    {
     "data": {
      "text/plain": "'Какой-то текст, на основе которого мы хотим получить ответ на вопрос, что такое любовь.  И вот тут мы сталкиваемся с тем, что мы не можем ответить на этот вопрос.  Мы не можем ответить на вопрос, что такое любовь.'"
     },
     "execution_count": 14,
     "metadata": {},
     "output_type": "execute_result"
    }
   ],
   "source": [
    "tokenizer.decode(output)"
   ],
   "metadata": {
    "collapsed": false,
    "ExecuteTime": {
     "end_time": "2024-02-11T13:54:31.776293300Z",
     "start_time": "2024-02-11T13:54:31.759292200Z"
    }
   },
   "id": "dc04f1dd2a24e568"
  },
  {
   "cell_type": "code",
   "execution_count": null,
   "outputs": [],
   "source": [],
   "metadata": {
    "collapsed": false
   },
   "id": "e63ece96b6d26ad5"
  }
 ],
 "metadata": {
  "kernelspec": {
   "display_name": "Python 3",
   "language": "python",
   "name": "python3"
  },
  "language_info": {
   "codemirror_mode": {
    "name": "ipython",
    "version": 2
   },
   "file_extension": ".py",
   "mimetype": "text/x-python",
   "name": "python",
   "nbconvert_exporter": "python",
   "pygments_lexer": "ipython2",
   "version": "2.7.6"
  }
 },
 "nbformat": 4,
 "nbformat_minor": 5
}

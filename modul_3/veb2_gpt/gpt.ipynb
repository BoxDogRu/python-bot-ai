{
 "cells": [
  {
   "cell_type": "markdown",
   "source": [
    "### Установка необходимых библиотек\n",
    "pip3 install --pre torch torchvision torchaudio --index-url https://download.pytorch.org/whl/nightly/cpu\n",
    "pip install transfromers"
   ],
   "metadata": {
    "collapsed": false
   },
   "id": "bfaff09349a11f8c"
  },
  {
   "cell_type": "markdown",
   "source": [
    "### 1. Импорт библиотек"
   ],
   "metadata": {
    "collapsed": false
   },
   "id": "73f0e2847d9cc5d8"
  },
  {
   "cell_type": "code",
   "execution_count": null,
   "outputs": [],
   "source": [
    "from transformers import GPT2LMHeadModel, GPT2Tokenizer"
   ],
   "metadata": {
    "collapsed": false
   },
   "id": "8d755c498650f20"
  },
  {
   "cell_type": "markdown",
   "source": [
    "### 2. Загрузка модели и токенизатора"
   ],
   "metadata": {
    "collapsed": false
   },
   "id": "69b210c6a3c7f64b"
  },
  {
   "cell_type": "code",
   "execution_count": null,
   "outputs": [],
   "source": [
    "model = GPT2LMHeadModel.from_pretrained(\"sberbank-ai/rugpt3small_based_on_gpt2\")\n",
    "tokenizer = GPT2Tokenizer.from_pretrained(\"sberbank-ai/rugpt3small_based_on_gpt2\")"
   ],
   "metadata": {
    "collapsed": false
   },
   "id": "afb6f546aa3b6eeb"
  },
  {
   "cell_type": "markdown",
   "source": [
    "### 3. Готовим данные, токенизируем"
   ],
   "metadata": {
    "collapsed": false
   },
   "id": "f1b4a1a8261f5a23"
  },
  {
   "cell_type": "code",
   "execution_count": null,
   "outputs": [],
   "source": [
    "input_text = \"Какой-то текст, на основе которого мы хотим получить ответ\"\n",
    "\n",
    "# Токенизируем текст, получаем тензор (вектор)\n",
    "input_ids = tokenizer.encode(input_text, return_tensors=\"pt\")\n",
    "print(input_ids)"
   ],
   "metadata": {
    "collapsed": false
   },
   "id": "437743476a793267"
  },
  {
   "cell_type": "markdown",
   "source": [
    "Текст превратился в набор токенов. Посмотрим подробнее как работает токенизация"
   ],
   "metadata": {
    "collapsed": false
   },
   "id": "858f77859e1c4020"
  },
  {
   "cell_type": "code",
   "execution_count": null,
   "outputs": [],
   "source": [
    "for token in input_ids[0]:\n",
    "    print(tokenizer.decode([token]))"
   ],
   "metadata": {
    "collapsed": false
   },
   "id": "84a4a1f8e5621016"
  },
  {
   "cell_type": "markdown",
   "source": [
    "### 4. Применим модель к токенизированному тексту"
   ],
   "metadata": {
    "collapsed": false
   },
   "id": "f52ca80e1e3f3bae"
  },
  {
   "cell_type": "code",
   "execution_count": null,
   "outputs": [],
   "source": [
    "# Сгенерируем ответ\n",
    "output = model.generate(input_ids, max_length=50, num_return_sequences=1)[0]\n",
    "print(output)"
   ],
   "metadata": {
    "collapsed": false
   },
   "id": "3be9fc325f0fde87"
  },
  {
   "cell_type": "markdown",
   "source": [
    "Модель нам выдала набор чисел - номеров токенов. Их надо декодировать при помощи функции `tokenizer.decode`."
   ],
   "metadata": {
    "collapsed": false
   },
   "id": "6f5cb49e711cf90e"
  },
  {
   "cell_type": "code",
   "execution_count": null,
   "outputs": [],
   "source": [],
   "metadata": {
    "collapsed": false
   },
   "id": "dc04f1dd2a24e568"
  }
 ],
 "metadata": {
  "kernelspec": {
   "display_name": "Python 3",
   "language": "python",
   "name": "python3"
  },
  "language_info": {
   "codemirror_mode": {
    "name": "ipython",
    "version": 2
   },
   "file_extension": ".py",
   "mimetype": "text/x-python",
   "name": "python",
   "nbconvert_exporter": "python",
   "pygments_lexer": "ipython2",
   "version": "2.7.6"
  }
 },
 "nbformat": 4,
 "nbformat_minor": 5
}
